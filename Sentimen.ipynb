{
 "cells": [
  {
   "cell_type": "code",
   "execution_count": 78,
   "metadata": {},
   "outputs": [],
   "source": [
    "from textblob import TextBlob\n",
    "import pandas as pd\n",
    "import re\n",
    "from googletrans import Translator"
   ]
  },
  {
   "cell_type": "code",
   "execution_count": 79,
   "metadata": {},
   "outputs": [],
   "source": [
    "dataTwitter = open(\"C:/Users/hp/OneDrive/Documents/Belajar Pemrograman/sentimenAnalisis/dataset/dataTwitter\", \"r\")\n",
    "dataWeb = open(\"C:/Users/hp/OneDrive/Documents/Belajar Pemrograman/sentimenAnalisis/dataset/dataWeb\", \"r\")\n",
    "\n",
    "dataTwitter = dataTwitter.readlines()\n",
    "dataWeb = dataWeb.readlines()"
   ]
  },
  {
   "cell_type": "code",
   "execution_count": 80,
   "metadata": {},
   "outputs": [
    {
     "data": {
      "text/html": [
       "<div>\n",
       "<style scoped>\n",
       "    .dataframe tbody tr th:only-of-type {\n",
       "        vertical-align: middle;\n",
       "    }\n",
       "\n",
       "    .dataframe tbody tr th {\n",
       "        vertical-align: top;\n",
       "    }\n",
       "\n",
       "    .dataframe thead th {\n",
       "        text-align: right;\n",
       "    }\n",
       "</style>\n",
       "<table border=\"1\" class=\"dataframe\">\n",
       "  <thead>\n",
       "    <tr style=\"text-align: right;\">\n",
       "      <th></th>\n",
       "      <th>Sentimen</th>\n",
       "    </tr>\n",
       "  </thead>\n",
       "  <tbody>\n",
       "    <tr>\n",
       "      <th>0</th>\n",
       "      <td>Tampilkan Dua Unit Special Display Kendaraan L...</td>\n",
       "    </tr>\n",
       "    <tr>\n",
       "      <th>1</th>\n",
       "      <td>Gampang Didandani, Ini Inspirasi Modifikasi Wu...</td>\n",
       "    </tr>\n",
       "    <tr>\n",
       "      <th>2</th>\n",
       "      <td>Bisa Jadi Inspirasi, Ini Konsep Modifikasi Wul...</td>\n",
       "    </tr>\n",
       "    <tr>\n",
       "      <th>3</th>\n",
       "      <td>Mobil Listrik Paling Banyak Dibeli di Awal 202...</td>\n",
       "    </tr>\n",
       "    <tr>\n",
       "      <th>4</th>\n",
       "      <td>Bukan Lawan Wuling Air EV Cs, Alasan Mitsubish...</td>\n",
       "    </tr>\n",
       "    <tr>\n",
       "      <th>...</th>\n",
       "      <td>...</td>\n",
       "    </tr>\n",
       "    <tr>\n",
       "      <th>362</th>\n",
       "      <td>RT Caranya 1 Follow Like RT 2 Cari Jawaban di ...</td>\n",
       "    </tr>\n",
       "    <tr>\n",
       "      <th>363</th>\n",
       "      <td>Wuling Air ev sudah dilengkapi dengan IoV Inte...</td>\n",
       "    </tr>\n",
       "    <tr>\n",
       "      <th>364</th>\n",
       "      <td>RT Caranya 1 Follow Like RT 2 Cari Jawaban di ...</td>\n",
       "    </tr>\n",
       "    <tr>\n",
       "      <th>365</th>\n",
       "      <td>RT Caranya 1 Follow Like RT 2 Cari Jawaban di ...</td>\n",
       "    </tr>\n",
       "    <tr>\n",
       "      <th>366</th>\n",
       "      <td>Hi Teknologi Wuling yang hadir pada AIR EV ada...</td>\n",
       "    </tr>\n",
       "  </tbody>\n",
       "</table>\n",
       "<p>367 rows × 1 columns</p>\n",
       "</div>"
      ],
      "text/plain": [
       "                                              Sentimen\n",
       "0    Tampilkan Dua Unit Special Display Kendaraan L...\n",
       "1    Gampang Didandani, Ini Inspirasi Modifikasi Wu...\n",
       "2    Bisa Jadi Inspirasi, Ini Konsep Modifikasi Wul...\n",
       "3    Mobil Listrik Paling Banyak Dibeli di Awal 202...\n",
       "4    Bukan Lawan Wuling Air EV Cs, Alasan Mitsubish...\n",
       "..                                                 ...\n",
       "362  RT Caranya 1 Follow Like RT 2 Cari Jawaban di ...\n",
       "363  Wuling Air ev sudah dilengkapi dengan IoV Inte...\n",
       "364  RT Caranya 1 Follow Like RT 2 Cari Jawaban di ...\n",
       "365  RT Caranya 1 Follow Like RT 2 Cari Jawaban di ...\n",
       "366  Hi Teknologi Wuling yang hadir pada AIR EV ada...\n",
       "\n",
       "[367 rows x 1 columns]"
      ]
     },
     "execution_count": 80,
     "metadata": {},
     "output_type": "execute_result"
    }
   ],
   "source": [
    "dfTwit = pd.DataFrame({\"Sentimen\":dataTwitter})\n",
    "dfWeb = pd.DataFrame({\"Sentimen\":dataWeb})\n",
    "\n",
    "df = pd.concat([dfWeb,dfTwit])\n",
    "df = df.reset_index()\n",
    "df = df.drop_duplicates().drop([\"index\"],axis=True)\n",
    "df \n"
   ]
  },
  {
   "cell_type": "code",
   "execution_count": 81,
   "metadata": {},
   "outputs": [],
   "source": [
    "df[\"Sentimen\"] = df[\"Sentimen\"].apply(lambda x: ' '.join(re.sub(\"(@[A-Za-z0-9]+)|([^0-9A-Za-z \\t])|(\\w+:\\/\\/\\S+)\",\" \",x).split()))\n",
    "df_clean = []\n",
    "for i in df[\"Sentimen\"]:\n",
    "    if i not in df_clean:\n",
    "        df_clean.append(i)"
   ]
  },
  {
   "cell_type": "code",
   "execution_count": 82,
   "metadata": {},
   "outputs": [],
   "source": [
    "df = pd.DataFrame({\"Sentimen\":df_clean})"
   ]
  },
  {
   "cell_type": "code",
   "execution_count": 83,
   "metadata": {},
   "outputs": [],
   "source": [
    "df[\"Sentimen\"] = df[\"Sentimen\"].apply(lambda x: x.lower())"
   ]
  },
  {
   "cell_type": "code",
   "execution_count": 84,
   "metadata": {},
   "outputs": [
    {
     "name": "stdout",
     "output_type": "stream",
     "text": [
      "Translation API returned the input string unchanged.\n",
      "147\n"
     ]
    }
   ],
   "source": [
    "df_en = []\n",
    "nomor = 0\n",
    "for line in df[\"Sentimen\"]:\n",
    "    try:\n",
    "        analisis = TextBlob(line)\n",
    "        analisis = analisis.translate(from_lang=\"id\",to=\"en\")\n",
    "        df_en.append(analisis.sentiment.polarity)\n",
    "        nomor += 1\n",
    "    except Exception as e:\n",
    "        print(e)\n",
    "        print(nomor+1)"
   ]
  },
  {
   "cell_type": "code",
   "execution_count": 86,
   "metadata": {},
   "outputs": [
    {
     "name": "stdout",
     "output_type": "stream",
     "text": [
      "251\n"
     ]
    }
   ],
   "source": [
    "hasilAnalisis = []\n",
    "for line in df_en:\n",
    "    if line < 0:\n",
    "        hasilAnalisis.append(\"netral\")\n",
    "    elif line == 0:\n",
    "        hasilAnalisis.append(\"negatif\")\n",
    "    else:\n",
    "        hasilAnalisis.append(\"positif\")\n",
    "print(len(df))\n",
    "df.drop(146,inplace=True)\n",
    "df[\"jenis sentimen\"] = hasilAnalisis"
   ]
  },
  {
   "cell_type": "code",
   "execution_count": 87,
   "metadata": {},
   "outputs": [
    {
     "data": {
      "text/html": [
       "<div>\n",
       "<style scoped>\n",
       "    .dataframe tbody tr th:only-of-type {\n",
       "        vertical-align: middle;\n",
       "    }\n",
       "\n",
       "    .dataframe tbody tr th {\n",
       "        vertical-align: top;\n",
       "    }\n",
       "\n",
       "    .dataframe thead th {\n",
       "        text-align: right;\n",
       "    }\n",
       "</style>\n",
       "<table border=\"1\" class=\"dataframe\">\n",
       "  <thead>\n",
       "    <tr style=\"text-align: right;\">\n",
       "      <th></th>\n",
       "      <th>Sentimen</th>\n",
       "      <th>jenis sentimen</th>\n",
       "    </tr>\n",
       "  </thead>\n",
       "  <tbody>\n",
       "    <tr>\n",
       "      <th>0</th>\n",
       "      <td>tampilkan dua unit special display kendaraan l...</td>\n",
       "      <td>positif</td>\n",
       "    </tr>\n",
       "    <tr>\n",
       "      <th>1</th>\n",
       "      <td>gampang didandani ini inspirasi modifikasi wul...</td>\n",
       "      <td>positif</td>\n",
       "    </tr>\n",
       "    <tr>\n",
       "      <th>2</th>\n",
       "      <td>bisa jadi inspirasi ini konsep modifikasi wuli...</td>\n",
       "      <td>negatif</td>\n",
       "    </tr>\n",
       "    <tr>\n",
       "      <th>3</th>\n",
       "      <td>mobil listrik paling banyak dibeli di awal 202...</td>\n",
       "      <td>positif</td>\n",
       "    </tr>\n",
       "    <tr>\n",
       "      <th>4</th>\n",
       "      <td>bukan lawan wuling air ev cs alasan mitsubishi...</td>\n",
       "      <td>negatif</td>\n",
       "    </tr>\n",
       "    <tr>\n",
       "      <th>...</th>\n",
       "      <td>...</td>\n",
       "      <td>...</td>\n",
       "    </tr>\n",
       "    <tr>\n",
       "      <th>246</th>\n",
       "      <td>rt ingin juga tampil stylish dengan air ev yuk...</td>\n",
       "      <td>positif</td>\n",
       "    </tr>\n",
       "    <tr>\n",
       "      <th>247</th>\n",
       "      <td>rt sebagai penumpang ibu wini merasa senang se...</td>\n",
       "      <td>positif</td>\n",
       "    </tr>\n",
       "    <tr>\n",
       "      <th>248</th>\n",
       "      <td>wuling air ev sudah dilengkapi dengan iov inte...</td>\n",
       "      <td>positif</td>\n",
       "    </tr>\n",
       "    <tr>\n",
       "      <th>249</th>\n",
       "      <td>wuling air ev sudah dilengkapi dengan iov inte...</td>\n",
       "      <td>positif</td>\n",
       "    </tr>\n",
       "    <tr>\n",
       "      <th>250</th>\n",
       "      <td>hi teknologi wuling yang hadir pada air ev ada...</td>\n",
       "      <td>netral</td>\n",
       "    </tr>\n",
       "  </tbody>\n",
       "</table>\n",
       "<p>250 rows × 2 columns</p>\n",
       "</div>"
      ],
      "text/plain": [
       "                                              Sentimen jenis sentimen\n",
       "0    tampilkan dua unit special display kendaraan l...        positif\n",
       "1    gampang didandani ini inspirasi modifikasi wul...        positif\n",
       "2    bisa jadi inspirasi ini konsep modifikasi wuli...        negatif\n",
       "3    mobil listrik paling banyak dibeli di awal 202...        positif\n",
       "4    bukan lawan wuling air ev cs alasan mitsubishi...        negatif\n",
       "..                                                 ...            ...\n",
       "246  rt ingin juga tampil stylish dengan air ev yuk...        positif\n",
       "247  rt sebagai penumpang ibu wini merasa senang se...        positif\n",
       "248  wuling air ev sudah dilengkapi dengan iov inte...        positif\n",
       "249  wuling air ev sudah dilengkapi dengan iov inte...        positif\n",
       "250  hi teknologi wuling yang hadir pada air ev ada...         netral\n",
       "\n",
       "[250 rows x 2 columns]"
      ]
     },
     "execution_count": 87,
     "metadata": {},
     "output_type": "execute_result"
    }
   ],
   "source": [
    "df"
   ]
  },
  {
   "cell_type": "code",
   "execution_count": null,
   "metadata": {},
   "outputs": [],
   "source": []
  }
 ],
 "metadata": {
  "kernelspec": {
   "display_name": "Python 3",
   "language": "python",
   "name": "python3"
  },
  "language_info": {
   "codemirror_mode": {
    "name": "ipython",
    "version": 3
   },
   "file_extension": ".py",
   "mimetype": "text/x-python",
   "name": "python",
   "nbconvert_exporter": "python",
   "pygments_lexer": "ipython3",
   "version": "3.10.0"
  },
  "orig_nbformat": 4,
  "vscode": {
   "interpreter": {
    "hash": "63963b3f4c440940f0b94a3100916033a226cb4f45979123153792d60aa56d6a"
   }
  }
 },
 "nbformat": 4,
 "nbformat_minor": 2
}
