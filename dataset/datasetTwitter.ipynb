{
 "cells": [
  {
   "cell_type": "code",
   "execution_count": 2,
   "metadata": {},
   "outputs": [],
   "source": [
    "import json\n",
    "import tweepy\n",
    "import requests\n",
    "from requests_oauthlib import OAuth1\n",
    "from textblob import TextBlob\n",
    "import datetime\n",
    "import re\n",
    "import pandas as pd"
   ]
  },
  {
   "cell_type": "code",
   "execution_count": 3,
   "metadata": {},
   "outputs": [
    {
     "data": {
      "text/plain": [
       "dict_keys(['bearer_token', 'api_key', 'api_key_secret', 'access_token', 'access_token_secret'])"
      ]
     },
     "execution_count": 3,
     "metadata": {},
     "output_type": "execute_result"
    }
   ],
   "source": [
    "with open(\"C:/Users/hp/OneDrive/Documents/Belajar Pemrograman/sentimenAnalisis/dataset/tokenJson/token.json\") as f:\n",
    "    tokens = json.load(f)\n",
    "    \n",
    "bearer_token = tokens['bearer_token']\n",
    "api_key = tokens['api_key']\n",
    "api_key_secret = tokens['api_key_secret']\n",
    "access_token = tokens['access_token']\n",
    "access_token_secret = tokens['access_token_secret']\n",
    "\n",
    "tokens.keys()"
   ]
  },
  {
   "cell_type": "code",
   "execution_count": 4,
   "metadata": {},
   "outputs": [],
   "source": [
    "auth = tweepy.OAuthHandler(api_key,api_key_secret)\n",
    "auth.set_access_token(access_token,access_token_secret)\n",
    "api = tweepy.API(auth)"
   ]
  },
  {
   "cell_type": "code",
   "execution_count": 5,
   "metadata": {},
   "outputs": [],
   "source": [
    "startDate = datetime.datetime(2022,8,1,0,0,0)\n",
    "endDate = datetime.datetime.now()"
   ]
  },
  {
   "cell_type": "code",
   "execution_count": 21,
   "metadata": {},
   "outputs": [
    {
     "name": "stdout",
     "output_type": "stream",
     "text": [
      "yes\n",
      "yes\n",
      "yes\n",
      "yes\n"
     ]
    }
   ],
   "source": [
    "response=tweepy.Cursor(api.search_tweets,q='wuling air ev',lang='id',tweet_mode='extended').items(10)\n",
    "for tweet in response:\n",
    "    # print(tweet.full_text)\n",
    "    if tweet.retweet_count > 0:\n",
    "        print(\"yes\")"
   ]
  },
  {
   "cell_type": "code",
   "execution_count": 12,
   "metadata": {},
   "outputs": [],
   "source": [
    "response=tweepy.Cursor(api.search_tweets,q='wuling air ev',lang='id',tweet_mode='extended').items()\n",
    "results = []\n",
    "for i in response:\n",
    "    # clean = clean_tweet(i.full_text)\n",
    "    clean = ' '.join(re.sub(\"(@[A-Za-z0-9]+)|([^0-9A-Za-z \\t])|(\\w+:\\/\\/\\S+)\",\" \",i.full_text).split())\n",
    "    results.append(clean)\n",
    "# print(len(results))"
   ]
  },
  {
   "cell_type": "code",
   "execution_count": 7,
   "metadata": {},
   "outputs": [
    {
     "data": {
      "text/html": [
       "<div>\n",
       "<style scoped>\n",
       "    .dataframe tbody tr th:only-of-type {\n",
       "        vertical-align: middle;\n",
       "    }\n",
       "\n",
       "    .dataframe tbody tr th {\n",
       "        vertical-align: top;\n",
       "    }\n",
       "\n",
       "    .dataframe thead th {\n",
       "        text-align: right;\n",
       "    }\n",
       "</style>\n",
       "<table border=\"1\" class=\"dataframe\">\n",
       "  <thead>\n",
       "    <tr style=\"text-align: right;\">\n",
       "      <th></th>\n",
       "      <th>Sentimen</th>\n",
       "    </tr>\n",
       "  </thead>\n",
       "  <tbody>\n",
       "    <tr>\n",
       "      <th>0</th>\n",
       "      <td>RT Wuling Tampilkan Dua Unit Special Display K...</td>\n",
       "    </tr>\n",
       "    <tr>\n",
       "      <th>1</th>\n",
       "      <td>Wuling Tampilkan Dua Unit Special Display Kend...</td>\n",
       "    </tr>\n",
       "    <tr>\n",
       "      <th>2</th>\n",
       "      <td>Masih Penasaran dengan Wuling Air ev Bisa Test...</td>\n",
       "    </tr>\n",
       "    <tr>\n",
       "      <th>3</th>\n",
       "      <td>MostPopuler Bisa Jadi Inspirasi Ini Konsep Mod...</td>\n",
       "    </tr>\n",
       "    <tr>\n",
       "      <th>4</th>\n",
       "      <td>Bisa Jadi Inspirasi Ini Konsep Modifikasi Wuli...</td>\n",
       "    </tr>\n",
       "    <tr>\n",
       "      <th>...</th>\n",
       "      <td>...</td>\n",
       "    </tr>\n",
       "    <tr>\n",
       "      <th>262</th>\n",
       "      <td>RT Caranya 1 Follow Like RT 2 Cari Jawaban di ...</td>\n",
       "    </tr>\n",
       "    <tr>\n",
       "      <th>263</th>\n",
       "      <td>Wuling Air ev sudah dilengkapi dengan IoV Inte...</td>\n",
       "    </tr>\n",
       "    <tr>\n",
       "      <th>264</th>\n",
       "      <td>RT Caranya 1 Follow Like RT 2 Cari Jawaban di ...</td>\n",
       "    </tr>\n",
       "    <tr>\n",
       "      <th>265</th>\n",
       "      <td>RT Caranya 1 Follow Like RT 2 Cari Jawaban di ...</td>\n",
       "    </tr>\n",
       "    <tr>\n",
       "      <th>266</th>\n",
       "      <td>Hi Teknologi Wuling yang hadir pada AIR EV ada...</td>\n",
       "    </tr>\n",
       "  </tbody>\n",
       "</table>\n",
       "<p>267 rows × 1 columns</p>\n",
       "</div>"
      ],
      "text/plain": [
       "                                              Sentimen\n",
       "0    RT Wuling Tampilkan Dua Unit Special Display K...\n",
       "1    Wuling Tampilkan Dua Unit Special Display Kend...\n",
       "2    Masih Penasaran dengan Wuling Air ev Bisa Test...\n",
       "3    MostPopuler Bisa Jadi Inspirasi Ini Konsep Mod...\n",
       "4    Bisa Jadi Inspirasi Ini Konsep Modifikasi Wuli...\n",
       "..                                                 ...\n",
       "262  RT Caranya 1 Follow Like RT 2 Cari Jawaban di ...\n",
       "263  Wuling Air ev sudah dilengkapi dengan IoV Inte...\n",
       "264  RT Caranya 1 Follow Like RT 2 Cari Jawaban di ...\n",
       "265  RT Caranya 1 Follow Like RT 2 Cari Jawaban di ...\n",
       "266  Hi Teknologi Wuling yang hadir pada AIR EV ada...\n",
       "\n",
       "[267 rows x 1 columns]"
      ]
     },
     "execution_count": 7,
     "metadata": {},
     "output_type": "execute_result"
    }
   ],
   "source": [
    "df = pd.DataFrame({\"Sentimen\":results})\n",
    "df"
   ]
  },
  {
   "cell_type": "code",
   "execution_count": 11,
   "metadata": {},
   "outputs": [],
   "source": [
    "with open(\"dataTwitter\",\"w\") as f:\n",
    "    for i in results:\n",
    "        f.write(i)\n",
    "        f.write(\"\\n\")"
   ]
  }
 ],
 "metadata": {
  "kernelspec": {
   "display_name": "Python 3",
   "language": "python",
   "name": "python3"
  },
  "language_info": {
   "codemirror_mode": {
    "name": "ipython",
    "version": 3
   },
   "file_extension": ".py",
   "mimetype": "text/x-python",
   "name": "python",
   "nbconvert_exporter": "python",
   "pygments_lexer": "ipython3",
   "version": "3.10.0"
  },
  "orig_nbformat": 4,
  "vscode": {
   "interpreter": {
    "hash": "63963b3f4c440940f0b94a3100916033a226cb4f45979123153792d60aa56d6a"
   }
  }
 },
 "nbformat": 4,
 "nbformat_minor": 2
}
