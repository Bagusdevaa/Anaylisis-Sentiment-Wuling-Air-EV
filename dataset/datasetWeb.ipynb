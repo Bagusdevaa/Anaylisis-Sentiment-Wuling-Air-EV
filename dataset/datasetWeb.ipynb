{
 "cells": [
  {
   "cell_type": "code",
   "execution_count": 2,
   "metadata": {},
   "outputs": [],
   "source": [
    "from bs4 import BeautifulSoup\n",
    "from urllib.request import urlopen"
   ]
  },
  {
   "cell_type": "code",
   "execution_count": 3,
   "metadata": {},
   "outputs": [],
   "source": [
    "## PERSIAPAN WEBSITE YANG DISCRAP\n",
    "# LINK JUDUL BERITA TENTANG WULING AIR EV\n",
    "url1 = \"https://news.google.com/search?q=wuling%20air%20ev%20when%3A1y%20--&hl=id&gl=ID&ceid=ID%3Aid\"\n",
    "html = urlopen(url1)\n",
    "data = BeautifulSoup(html, 'html.parser')"
   ]
  },
  {
   "cell_type": "code",
   "execution_count": 4,
   "metadata": {},
   "outputs": [],
   "source": [
    "# Mencari tag html yang berisi judul\n",
    "newsTitle = data.findAll(\"h3\", {\"ipQwMb\"})"
   ]
  },
  {
   "cell_type": "code",
   "execution_count": 5,
   "metadata": {},
   "outputs": [],
   "source": [
    "# Memasukkan semua judul ke list\n",
    "listTitle = []\n",
    "for title in newsTitle:\n",
    "    listTitle.append(title.get_text())"
   ]
  },
  {
   "cell_type": "code",
   "execution_count": 26,
   "metadata": {},
   "outputs": [],
   "source": [
    "with open(\"dataWeb\", \"w\") as f:\n",
    "    for i in listTitle:\n",
    "        f.writelines(i)\n",
    "        f.write(\"\\n\")"
   ]
  }
 ],
 "metadata": {
  "kernelspec": {
   "display_name": "Python 3",
   "language": "python",
   "name": "python3"
  },
  "language_info": {
   "codemirror_mode": {
    "name": "ipython",
    "version": 3
   },
   "file_extension": ".py",
   "mimetype": "text/x-python",
   "name": "python",
   "nbconvert_exporter": "python",
   "pygments_lexer": "ipython3",
   "version": "3.10.0"
  },
  "orig_nbformat": 4,
  "vscode": {
   "interpreter": {
    "hash": "63963b3f4c440940f0b94a3100916033a226cb4f45979123153792d60aa56d6a"
   }
  }
 },
 "nbformat": 4,
 "nbformat_minor": 2
}
